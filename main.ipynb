{
 "cells": [
  {
   "cell_type": "code",
   "execution_count": null,
   "metadata": {},
   "outputs": [],
   "source": [
    "import os\n",
    "\n",
    "\n",
    "def get_xdf_files_in_directory(directory, return_abspath=False):\n",
    "    \"\"\"\n",
    "    Get all *.xdf files in the directory and return their relative paths.\n",
    "    If return_abspath is True, return the absolute paths.\n",
    "    \"\"\"\n",
    "    extension = \".xdf\"\n",
    "    # get the files in the directory\n",
    "    files = [f for f in os.listdir(directory) if f.endswith(extension)]\n",
    "    full_files = [os.path.join(directory, f) for f in files]\n",
    "    if return_abspath:\n",
    "        full_files = [os.path.abspath(f) for f in full_files]\n",
    "    full_files = [os.path.normpath(f) for f in full_files]\n",
    "    full_files.sort()  # always easier like this\n",
    "    return full_files\n",
    "\n",
    "\n",
    "# get all files in the directory\n",
    "xdf_files = get_xdf_files_in_directory(\"data/reference\")\n",
    "print(len(xdf_files), \"xdf files: [\\n\", xdf_files[0], \"\\n... \\n\", xdf_files[-1], \"]\")"
   ]
  },
  {
   "cell_type": "code",
   "execution_count": null,
   "metadata": {},
   "outputs": [],
   "source": [
    "use_notebook = True\n",
    "\n",
    "if use_notebook:\n",
    "    %run \"notebooks/xdf2snirf.v0.8.0.ipynb\"\n",
    "else:\n",
    "    from src.xdf_to_snirf import xdf2snirf\n",
    "\n",
    "for file in xdf_files:\n",
    "    xdf_fullFile = os.path.abspath(os.path.join(os.getcwd(), file))\n",
    "    new_fname = xdf2snirf(xdf_fullFile) \n"
   ]
  }
 ],
 "metadata": {
  "language_info": {
   "name": "python"
  }
 },
 "nbformat": 4,
 "nbformat_minor": 2
}
