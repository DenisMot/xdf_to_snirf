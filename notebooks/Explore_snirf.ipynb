{
 "cells": [
  {
   "cell_type": "code",
   "execution_count": null,
   "metadata": {},
   "outputs": [],
   "source": [
    "s_file = \"/Users/denismottet/Documents/GitHub/NeuArm-DataAnalysis/data/AgePie/AgePie_A16.snirf\"\n",
    "delay = 6985\n",
    "duration = 8105\n"
   ]
  },
  {
   "cell_type": "markdown",
   "metadata": {},
   "source": [
    "# Copy the original file to a new file, \n",
    "\n",
    "and then replace the content of the new file with the content of the original file.\n"
   ]
  },
  {
   "cell_type": "code",
   "execution_count": null,
   "metadata": {},
   "outputs": [],
   "source": [
    "new_fname = \"new_AgePie_A16_2.snirf\"\n",
    "\n",
    "from snirf import Snirf\n",
    "\n",
    "\n",
    "def copy_snirf_file(file_name, new_file_name):\n",
    "    snirf = Snirf(file_name, \"r\")\n",
    "    snirf.save(new_file_name)\n",
    "    snirf.close()  \n",
    "\n",
    "copy_snirf_file(s_file, new_fname)\n",
    "\n",
    "with Snirf(new_fname, 'r+') as snirf:\n",
    "     validation_results = snirf.validate()\n",
    "     #validation_results.display()\n",
    "\n"
   ]
  },
  {
   "cell_type": "markdown",
   "metadata": {},
   "source": [
    "# Load the snirf file with MNE"
   ]
  },
  {
   "cell_type": "code",
   "execution_count": null,
   "metadata": {},
   "outputs": [],
   "source": [
    "\n",
    "import mne\n",
    "\n",
    "raw = mne.io.read_raw_snirf(s_file, preload=True, verbose=\"CRITICAL\")\n",
    "raw.close()\n",
    "\n",
    "raw_data = raw.get_data()\n",
    "print(\"raw_data.shape: {}\".format(raw_data.shape))\n",
    "# plot the raw data (to see the markers-annotations)\n",
    "raw.plot()\n"
   ]
  },
  {
   "cell_type": "markdown",
   "metadata": {},
   "source": []
  },
  {
   "cell_type": "code",
   "execution_count": null,
   "metadata": {},
   "outputs": [],
   "source": [
    "import numpy as np\n",
    "\n",
    "snirf = Snirf(new_fname, \"r+\")\n",
    "\n",
    "\n",
    "# get the nirs time series \n",
    "nirs_data = snirf.nirs[0].data[0].dataTimeSeries\n",
    "nirs_time = snirf.nirs[0].data[0].time\n",
    "nirs_meas_list = snirf.nirs[0].data[0].measurementList\n",
    "n_channels = len(nirs_meas_list)\n",
    "n_samples = len(nirs_time)\n",
    "print(\"n_channels = {}, n_samples = {}\".format(n_channels, n_samples))\n",
    "print(\"nirs_data.shape = {}\".format(nirs_data.shape))\n",
    "\n",
    "# metaDataTags\n",
    "print(\"date = {}\".format(snirf.nirs[0].metaDataTags.MeasurementDate))\n",
    "print(\"time = {}\".format(snirf.nirs[0].metaDataTags.MeasurementTime))\n",
    "print(\"Subject  = {}\".format(snirf.nirs[0].metaDataTags.SubjectID))\n",
    "\n",
    "# probe\n",
    "print(\"sourcePos2D 2D = {}\".format(snirf.nirs[0].probe.sourcePos2D))\n",
    "print(\"detectorPos2D 2D = {}\".format(snirf.nirs[0].probe.detectorPos2D))\n",
    "\n",
    "def get_channel_names(snirf):\n",
    "    \"\"\"get the names of the channels\"\"\"\n",
    "    channel_names = []\n",
    "    n_sources = len(snirf.nirs[0].probe.sourceLabels)\n",
    "    n_detectors = len(snirf.nirs[0].probe.detectorLabels)\n",
    "    n_wavelengths = len(snirf.nirs[0].probe.wavelengths)\n",
    "    print(\"n_sources = {}, n_detectors = {}, n_wavelengths = {}\".format(n_sources, n_detectors, n_wavelengths))\n",
    "\n",
    "    for w in range(n_wavelengths):\n",
    "        for s in range(n_sources):\n",
    "            d = int(np.floor_divide(s , n_sources / n_detectors))\n",
    "            channel_names.append(\n",
    "                \"{}-{}-{:3.0f}\".format(\n",
    "                    snirf.nirs[0].probe.sourceLabels[s],\n",
    "                    snirf.nirs[0].probe.detectorLabels[d],\n",
    "                    snirf.nirs[0].probe.wavelengths[w],\n",
    "                )\n",
    "            )\n",
    "    return channel_names\n",
    "\n",
    "\n",
    "def print_annotations(annotations):\n",
    "    \"\"\"print the annotations\"\"\"\n",
    "    n_annotations = len(annotations)\n",
    "    for a in range(n_annotations):\n",
    "        if annotations[a].data.ndim == 1:\n",
    "            print(\"{} = {}\".format(annotations[a].name, annotations[a].data))\n",
    "        else:\n",
    "            for i in range(len(annotations[a].data)):\n",
    "                print(\"{} = {}\".format(annotations[a].name, annotations[a].data[i]))\n",
    "\n",
    "# print the annotations\n",
    "print(\"annotations\")\n",
    "print_annotations(snirf.nirs[0].stim)\n",
    "\n",
    "\n",
    "# modify the annotations \n",
    "beg = snirf.nirs[0].data[0].time[delay]\n",
    "end = snirf.nirs[0].data[0].time[delay + duration]\n",
    "print(\"beg = {}, end = {}, duration ={}\".format(beg, end, end - beg))\n",
    "\n",
    "annotations = snirf.nirs[0].stim\n",
    "n_annotations = len(annotations)\n",
    "# the first time is always ZERO, hence the annotations are shifted by beg\n",
    "for a in range(n_annotations):\n",
    "    if annotations[a].data.ndim == 1:\n",
    "        annotations[a].data[0] = annotations[a].data[0] - beg\n",
    "    else:\n",
    "        for i in range(len(annotations[a].data)):\n",
    "            annotations[a].data[i][0] = annotations[a].data[i][0] - beg\n",
    "\n",
    "\n",
    "# print the new annotations\n",
    "print(\"new annotations\")\n",
    "print_annotations(snirf.nirs[0].stim)\n",
    "\n",
    "# modify the time and the nirs data\n",
    "\n",
    "new_nirs_data = nirs_data[delay:delay+duration,:]\n",
    "new_nirs_time = nirs_time[delay:delay+duration]\n",
    "\n",
    "print(\"new_nirs_time: \", new_nirs_time.shape)\n",
    "print(\"new_nirs_data: \", new_nirs_data.shape)\n",
    "\n",
    "snirf.nirs[0].data[0].dataTimeSeries = new_nirs_data\n",
    "snirf.nirs[0].data[0].time = new_nirs_time\n",
    "\n",
    "# save the modifications\n",
    "snirf.save()\n",
    "snirf.close()\n",
    "\n",
    "\n",
    "# plot the nirs time series\n",
    "import matplotlib.pyplot as plt\n",
    "\n",
    "plt.figure()\n",
    "plt.plot(nirs_time, nirs_data, linewidth=0.5, label=get_channel_names(snirf))\n",
    "plt.title(\"nirs time series\")\n",
    "plt.xlabel(\"time (s)\")\n",
    "plt.ylabel(\"nirs\")\n",
    "plt.legend()\n",
    "plt.show()\n"
   ]
  },
  {
   "cell_type": "markdown",
   "metadata": {},
   "source": [
    "# Load the new file and plot the data"
   ]
  },
  {
   "cell_type": "code",
   "execution_count": null,
   "metadata": {},
   "outputs": [],
   "source": [
    "new = mne.io.read_raw_snirf(new_fname, preload=True, verbose=\"CRITICAL\")\n",
    "\n",
    "\n",
    "new.plot()\n",
    "\n"
   ]
  },
  {
   "cell_type": "markdown",
   "metadata": {},
   "source": [
    "# Verify the annotations "
   ]
  },
  {
   "cell_type": "code",
   "execution_count": null,
   "metadata": {},
   "outputs": [],
   "source": [
    "# get the annotations (there is no Events in this file)\n",
    "annotations = new.annotations\n",
    "\n",
    "# print all annotations\n",
    "duration_s = duration / new.info[\"sfreq\"]   \n",
    "print(annotations)\n",
    "for i in range(len(annotations.description)):\n",
    "    e = annotations.description[i]\n",
    "    t = annotations.onset[i]\n",
    "    print(\"{:2d}: {:10.3f}s = {} \".format(i, t, e))\n",
    "    if t > duration_s:\n",
    "        print(\"time of event is greater than duration\")\n",
    "\n",
    "\n"
   ]
  }
 ],
 "metadata": {
  "language_info": {
   "name": "python"
  }
 },
 "nbformat": 4,
 "nbformat_minor": 2
}
