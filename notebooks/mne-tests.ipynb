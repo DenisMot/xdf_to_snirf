{
 "cells": [
  {
   "cell_type": "code",
   "execution_count": null,
   "metadata": {},
   "outputs": [],
   "source": [
    "%matplotlib qt\n",
    "\n",
    "import os\n",
    "import mne\n",
    "\n",
    "from mne.io import read_raw_nirx, read_raw_snirf\n",
    "from mne.preprocessing.nirs import optical_density, beer_lambert_law\n",
    "from mne_nirs.io import write_raw_snirf\n",
    "\n",
    "fnirs_data_folder = mne.datasets.fnirs_motor.data_path()\n",
    "fnirs_raw_dir = os.path.join(fnirs_data_folder, 'Participant-1')\n",
    "raw_intensity = read_raw_nirx(fnirs_raw_dir).load_data()\n",
    "raw_intensity.plot(n_channels=30, duration=300, show_scrollbars=False)\n",
    "raw_intensity.compute_psd(average='mean').plot()\n",
    "#raw_intensity.plot_psd(average=False)\n",
    "print(raw_intensity.ch_names)\n",
    "\n",
    "#write_raw_snirf(raw_intensity, 'test_raw.snirf')\n",
    "\n",
    "raw_intensity.plot_sensors(show_names=True)"
   ]
  },
  {
   "cell_type": "code",
   "execution_count": null,
   "metadata": {},
   "outputs": [],
   "source": [
    "import os\n",
    "import mne\n",
    "\n",
    "from mne.io import read_raw_nirx, read_raw_snirf\n",
    "from mne.preprocessing.nirs import optical_density, beer_lambert_law\n",
    "\n",
    "fname = 'data/2IA_v1.snirf'\n",
    "fname = '/Users/denismottet/Documents/GitHub/NeuArm-DataAnalysis/data/2IA_v1.snirf'\n",
    "fname = '/Users/denismottet/Documents/GitHub/NeuArm-DataAnalysis/data/AgePie/AgePie_A16.snirf'\n",
    "\n",
    "raw_intensity = read_raw_snirf(fname, preload=True)\n",
    "raw_intensity.plot(n_channels=30, duration=300, show_scrollbars=False)\n",
    "#raw_intensity.compute_psd(average='mean').plot()\n",
    "#raw_intensity.plot_sensors(show_names=True)\n",
    "#raw_intensity.plot_sensors(show_names=False)\n",
    "montage = raw_intensity.get_montage()\n",
    "montage.plot()\n",
    "montage.plot(verbose=True)"
   ]
  },
  {
   "cell_type": "code",
   "execution_count": null,
   "metadata": {},
   "outputs": [],
   "source": [
    "import mne\n",
    "import mne.io\n",
    "\n"
   ]
  }
 ],
 "metadata": {
  "language_info": {
   "name": "python"
  }
 },
 "nbformat": 4,
 "nbformat_minor": 2
}
