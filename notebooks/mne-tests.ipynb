{
 "cells": [
  {
   "cell_type": "code",
   "execution_count": null,
   "metadata": {},
   "outputs": [],
   "source": [
    "%matplotlib qt\n",
    "\n",
    "import os\n",
    "import mne\n",
    "\n",
    "from mne.io import read_raw_nirx, read_raw_snirf\n",
    "from mne.preprocessing.nirs import optical_density, beer_lambert_law\n",
    "from mne_nirs.io import write_raw_snirf\n",
    "\n",
    "fnirs_data_folder = mne.datasets.fnirs_motor.data_path()\n",
    "fnirs_raw_dir = os.path.join(fnirs_data_folder, 'Participant-1')\n",
    "raw_intensity = read_raw_nirx(fnirs_raw_dir).load_data()\n",
    "raw_intensity.plot(n_channels=30, duration=300, show_scrollbars=False)\n",
    "raw_intensity.compute_psd(average='mean').plot()\n",
    "#raw_intensity.plot_psd(average=False)\n",
    "print(raw_intensity.ch_names)\n",
    "\n",
    "#write_raw_snirf(raw_intensity, 'test_raw.snirf')\n",
    "\n",
    "raw_intensity.plot_sensors(show_names=True)"
   ]
  },
  {
   "cell_type": "code",
   "execution_count": null,
   "metadata": {},
   "outputs": [],
   "source": [
    "import os\n",
    "import mne\n",
    "\n",
    "from mne.io import read_raw_nirx, read_raw_snirf\n",
    "from mne.preprocessing.nirs import optical_density, beer_lambert_law\n",
    "\n",
    "fname = 'data/2IA_v1.snirf'\n",
    "fname = '/Users/denismottet/Documents/GitHub/NeuArm-DataAnalysis/data/2IA_v1.snirf'\n",
    "fname = '/Users/denismottet/Documents/GitHub/NeuArm-DataAnalysis/data/AgePie/AgePie_A16.snirf'\n",
    "#fname = '/Users/denismottet/Documents/GitHub/NeuArm-DataAnalysis/results/015_AgePie_20211112_1_r(1).snirf'\n",
    "fname = '/Users/denismottet/Documents/GitHub/NeuArm-DataAnalysis/results/015_AgePie_20211112_1_r.snirf'\n",
    "\n",
    "raw_intensity = read_raw_snirf(fname, preload=True)\n",
    "raw_intensity.plot(n_channels=30, duration=300, show_scrollbars=False)\n",
    "#raw_intensity.compute_psd(average='mean').plot()\n",
    "#raw_intensity.plot_sensors(show_names=True)\n",
    "#raw_intensity.plot_sensors(show_names=False)\n",
    "montage = raw_intensity.get_montage()\n",
    "#montage.plot()\n",
    "montage.plot(verbose=True)"
   ]
  },
  {
   "cell_type": "code",
   "execution_count": null,
   "metadata": {},
   "outputs": [],
   "source": [
    "\n",
    "\n",
    "raw_intensity = read_raw_snirf(fname, preload=True)\n",
    "\n",
    "# get events from the annotations\n",
    "events, event_id = mne.events_from_annotations(raw_intensity)\n",
    "\n",
    "raw_intensity.set_annotations(None)\n",
    "events = mne.pick_events(events, include=[2,3])\n",
    "print(events)\n",
    "\n",
    "mapping = {\n",
    "    1: \"LSL 1\",\n",
    "    2: \"LSL 100\",\n",
    "    3: \"LSL 111\",\n",
    "    4: \"LSL 2\",\n",
    "}\n",
    "\n",
    "\n",
    "raw_intensity.plot(\n",
    "    events=events,\n",
    "    start=5,\n",
    "    duration=10,\n",
    "    event_color={2: \"b\", 3: \"r\"},\n",
    ")\n",
    "\n",
    "od = optical_density(raw_intensity)\n",
    "od.plot(\n",
    "    events=events,\n",
    "    start=5,\n",
    "    duration=10,\n",
    "    event_color={2: \"b\", 3: \"r\"},\n",
    ")"
   ]
  },
  {
   "cell_type": "markdown",
   "metadata": {},
   "source": [
    "# From annotations to events    "
   ]
  },
  {
   "cell_type": "code",
   "execution_count": null,
   "metadata": {},
   "outputs": [],
   "source": [
    "new_fname = \"../results/015_AgePie_20211112_1_r(1).snirf\"\n",
    "\n",
    "\n",
    "new = mne.io.read_raw_snirf(new_fname, preload=True, verbose=\"CRITICAL\")\n",
    "\n",
    "# from annotations to events\n",
    "events, event_id = mne.events_from_annotations(new)\n",
    "print(events)\n",
    "print(event_id)\n",
    "new.set_annotations(None)\n",
    "# back to annotations\n",
    "mapping = {\n",
    "    1: \"LSL 1\",\n",
    "    2: \"LSL 100\",\n",
    "    3: \"LSL 111\",\n",
    "    4: \"LSL 2\",\n",
    "}\n",
    "annot_from_events = mne.annotations_from_events(\n",
    "    events=events, \n",
    "    sfreq=new.info[\"sfreq\"],\n",
    "    event_desc=mapping,\n",
    "    )\n",
    "new.set_annotations(annot_from_events)\n",
    "new.plot()"
   ]
  },
  {
   "cell_type": "markdown",
   "metadata": {},
   "source": [
    "# Check that manually renaming the snirf file does not raise any error"
   ]
  },
  {
   "cell_type": "code",
   "execution_count": null,
   "metadata": {},
   "outputs": [],
   "source": [
    "from snirf import Snirf\n",
    "\n",
    "new_fname2 = \"../results/015_AgePie_20211112_1_r.snirf\"\n",
    "\n",
    "with Snirf(new_fname2, \"r+\") as snirf:\n",
    "    validation_results = snirf.validate()\n",
    "    validation_results.display()\n",
    "\n",
    "new = mne.io.read_raw_snirf(new_fname2, preload=True, verbose=\"CRITICAL\")\n",
    "new.plot()"
   ]
  }
 ],
 "metadata": {
  "language_info": {
   "name": "python"
  }
 },
 "nbformat": 4,
 "nbformat_minor": 2
}
