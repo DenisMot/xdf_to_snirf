{
 "cells": [
  {
   "cell_type": "code",
   "execution_count": null,
   "metadata": {},
   "outputs": [],
   "source": [
    "files = [\n",
    "    \"data/AgePie/015_AgePie_20211112_1_r(1).xdf\",\n",
    "    \"data/ReArm.lnk/twoTestPatientsForOXY4/C1P07_20210802_1_r.xdf\",\n",
    "    ]"
   ]
  },
  {
   "cell_type": "code",
   "execution_count": null,
   "metadata": {},
   "outputs": [],
   "source": [
    "import os \n",
    "\n",
    "%run \"xdf2snirf.v0.6.0.ipynb\"\n",
    "# if in the notebook, the project_dir is the root of the project\n",
    "cwd = os.getcwd()\n",
    "if cwd.endswith(\"notebooks\"):\n",
    "    project_dir = os.path.abspath(os.path.join(cwd, os.pardir))\n",
    "else:\n",
    "    project_dir = cwd\n",
    "\n",
    "for file in files:\n",
    "    xdf_fullFile = os.path.abspath(os.path.join(project_dir, file))\n",
    "    new_fname = xdf2snirf(xdf_fullFile)    \n",
    "\n",
    "    toto = 3\n",
    "\n",
    "    print(f\"Created {new_fname}\")   "
   ]
  }
 ],
 "metadata": {
  "language_info": {
   "name": "python"
  }
 },
 "nbformat": 4,
 "nbformat_minor": 2
}
