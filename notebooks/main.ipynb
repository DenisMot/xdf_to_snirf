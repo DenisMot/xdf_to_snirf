{
 "cells": [
  {
   "cell_type": "code",
   "execution_count": null,
   "metadata": {},
   "outputs": [],
   "source": [
    "# relative path from the 'notebooks' directory\n",
    "files = [\n",
    "    \"../data/AgePie/015_AgePie_20211112_1_r(1).xdf\",\n",
    "    \"../data/ReArm.lnk/twoTestPatientsForOXY4/C1P07_20210802_1_r.xdf\",\n",
    "]"
   ]
  },
  {
   "cell_type": "code",
   "execution_count": null,
   "metadata": {},
   "outputs": [],
   "source": [
    "import os \n",
    "\n",
    "%run \"xdf2snirf.v0.6.3.ipynb\"\n",
    "\n",
    "\n",
    "for file in files:\n",
    "    xdf_fullFile = os.path.abspath(os.path.join(os.getcwd(), file))\n",
    "    new_fname = xdf2snirf(xdf_fullFile)    \n"
   ]
  }
 ],
 "metadata": {
  "language_info": {
   "name": "python"
  }
 },
 "nbformat": 4,
 "nbformat_minor": 2
}
