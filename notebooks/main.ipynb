{
 "cells": [
  {
   "cell_type": "code",
   "execution_count": null,
   "metadata": {},
   "outputs": [],
   "source": [
    "# relative path from the 'notebooks' directory\n",
    "files = [\n",
    "    \"../data/AgePie/015_AgePie_20211112_1_r(1).xdf\",\n",
    "    \"../data/ReArm.lnk/twoTestPatientsForOXY4/C1P07_20210802_1_r.xdf\",\n",
    "]"
   ]
  },
  {
   "cell_type": "code",
   "execution_count": null,
   "metadata": {},
   "outputs": [],
   "source": [
    "import os \n",
    "\n",
    "%run \"xdf2snirf.v0.6.2.ipynb\"\n",
    "\n",
    "\n",
    "for file in files:\n",
    "    xdf_fullFile = os.path.abspath(os.path.join(os.getcwd(), file))\n",
    "    new_fname = xdf2snirf(xdf_fullFile)    \n",
    "\n",
    "    # get the name without the path and extension from the xdf file\n",
    "    file_name = os.path.basename(new_fname)\n",
    "    name = os.path.splitext(file_name)[0]\n",
    "    new = mne.io.read_raw_snirf(new_fname, preload=True, verbose=\"CRITICAL\")\n",
    "    assert_snirf_file(name, new)        \n",
    "\n",
    "    print(f\"Created {new_fname}\")\n",
    "    print(f\"  {new.info['nchan']} channels, {new.n_times} time points at {new.info['sfreq']} Hz) \")\n",
    "    print(\" \")\n"
   ]
  }
 ],
 "metadata": {
  "language_info": {
   "name": "python"
  }
 },
 "nbformat": 4,
 "nbformat_minor": 2
}
