{
 "cells": [
  {
   "cell_type": "code",
   "execution_count": null,
   "metadata": {},
   "outputs": [],
   "source": [
    "import os\n",
    "\n",
    "\n",
    "def get_xdf_files_in_directory(directory, return_abspath=False):\n",
    "    \"\"\"\n",
    "    Get all *.xdf files in the directory and return their relative paths.\n",
    "    If return_abspath is True, return the absolute paths.\n",
    "    \"\"\"\n",
    "    extension = \".xdf\"\n",
    "    # get the files in the directory\n",
    "    files = [f for f in os.listdir(directory) if f.endswith(extension)]\n",
    "    full_files = [os.path.join(directory, f) for f in files]\n",
    "    if return_abspath:\n",
    "        full_files = [os.path.abspath(f) for f in full_files]\n",
    "    full_files = [os.path.normpath(f) for f in full_files]\n",
    "    full_files.sort()  # always easier like this\n",
    "    return full_files\n",
    "\n",
    "\n",
    "# get all files in the directory\n",
    "files = get_xdf_files_in_directory(\"../data/NeuArm.lnk/Old_Healthy\")\n",
    "print(len(files), \"files: [\\n\", files[0], \"\\n... \\n\", files[-1], \"]\")\n",
    "\n",
    "# relative path from the 'notebooks' directory for simple testing\n",
    "files = [\n",
    "    \"../data/AgePie/015_AgePie_20211112_1_r(1).xdf\",\n",
    "    \"../data/ReArm.lnk/twoTestPatientsForOXY4/C1P07_20210802_1_r.xdf\",\n",
    "]"
   ]
  },
  {
   "cell_type": "code",
   "execution_count": null,
   "metadata": {},
   "outputs": [],
   "source": [
    "import os \n",
    "\n",
    "%run \"xdf2snirf.v0.7.0.ipynb\"\n",
    "\n",
    "\n",
    "for file in files:\n",
    "    xdf_fullFile = os.path.abspath(os.path.join(os.getcwd(), file))\n",
    "    new_fname = xdf2snirf(xdf_fullFile)    \n"
   ]
  }
 ],
 "metadata": {
  "language_info": {
   "name": "python"
  }
 },
 "nbformat": 4,
 "nbformat_minor": 2
}
