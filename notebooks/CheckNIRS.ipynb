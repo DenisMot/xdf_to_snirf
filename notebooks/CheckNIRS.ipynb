{
 "cells": [
  {
   "cell_type": "markdown",
   "metadata": {},
   "source": [
    "# Check the NIRS data stream \n",
    "\n"
   ]
  },
  {
   "cell_type": "markdown",
   "metadata": {},
   "source": [
    "# Initializations and imports"
   ]
  },
  {
   "cell_type": "code",
   "execution_count": null,
   "metadata": {},
   "outputs": [],
   "source": [
    "import os\n",
    "\n",
    "import numpy as np\n",
    "import pprint\n",
    "import json\n",
    "\n",
    "# if we are in the notebooks folder, go back to the root folder\n",
    "if os.path.basename(os.getcwd()) == 'notebooks':\n",
    "    os.chdir('..')\n",
    "    cwd = os.getcwd()\n",
    "    print('Changed working directory to: ', cwd)\n",
    "\n",
    "conditionsFile = 'data/NeuArm_conditions.csv'\n",
    "conditions = np.genfromtxt(conditionsFile, delimiter=',', names=True, dtype=None, encoding=None)\n",
    "print(conditions.dtype.names)\n"
   ]
  },
  {
   "cell_type": "markdown",
   "metadata": {},
   "source": [
    "# Load a data file"
   ]
  },
  {
   "cell_type": "code",
   "execution_count": null,
   "metadata": {},
   "outputs": [],
   "source": [
    "# select one file and print a summary of its content \n",
    "iLine = 11\n",
    "relativePath = conditions[iLine]['relativePath']\n",
    "\n",
    "# load the data\n",
    "import pyxdf\n",
    "fullpath = os.path.join(cwd, relativePath)\n",
    "data, header = pyxdf.load_xdf(fullpath, synchronize_clocks=True, dejitter_timestamps=False, verbose=False)\n",
    "\n",
    "# print all  stream names\n",
    "for stream in data:\n",
    "    name = stream['info']['name'][0]\n",
    "    type = stream['info']['type'][0]\n",
    "    nSamples = stream['time_stamps'].shape[0]\n",
    "    duration = round(stream['time_stamps'][-1] - stream['time_stamps'][0])\n",
    "\n",
    "    import datetime\n",
    "    duration = datetime.timedelta(seconds=duration)\n",
    "\n",
    "    print(name + \" (\" + type + ')\\n  ' + str(duration) + ', ' + str(nSamples) + ' samples ')\n",
    "# print the header \n",
    "print(header)"
   ]
  },
  {
   "cell_type": "markdown",
   "metadata": {},
   "source": [
    "# Check the NIRS data "
   ]
  },
  {
   "cell_type": "code",
   "execution_count": null,
   "metadata": {},
   "outputs": [],
   "source": [
    "# get the NIRS data\n",
    "nirsStreams = [s for s in data if ( s['info']['type'][0] == 'NIRS' and  s['info']['name'][0] == 'Oxysoft') ]\n",
    "\n",
    "# check that we have only one NIRS stream\n",
    "if len(nirsStreams) != 1:\n",
    "    print('Found ' + str(len(nirsStreams)) + ' NIRS streams. Aborting.')\n",
    "    exit()\n",
    "\n",
    "# get the first (and only) NIRS stream\n",
    "nirsStream = nirsStreams[0] \n",
    "\n",
    "# parse the content of the stream\n",
    "nirsData = nirsStream['time_series']\n",
    "nirsTime = nirsStream['time_stamps']\n",
    "nirsDesc = nirsStream['info']['desc'][0]\n",
    "nirsChannelCount = int(nirsStream['info']['channel_count'][0])\n",
    "nirsSamplingRate = float(nirsStream['info']['nominal_srate'][0])\n",
    "\n",
    "# get the labels for the NIRS data\n",
    "nirsLabels = []\n",
    "for chan in nirsStream['info']['desc'][0]['channels'][0]['channel']:\n",
    "    label = chan['label']\n",
    "    unit = chan['unit']\n",
    "    type = chan['type']\n",
    "    nirsLabels.append( {'label': label, 'unit': unit, 'type': type} )\n",
    "\n",
    "nirsData = np.array(nirsData)\n",
    "nirsTime = np.array(nirsTime)\n",
    "nirsTime = nirsTime - nirsTime[0]\n",
    "\n",
    "print('NIRS data shape: ', nirsData.shape)\n",
    "print('NIRS sampling rate: ', nirsSamplingRate)\n",
    "# print the labels one by one \n",
    "for label in nirsLabels:\n",
    "    print(label['label'][0])\n"
   ]
  },
  {
   "cell_type": "markdown",
   "metadata": {},
   "source": [
    "## Nexw oder of channels \n",
    "From Gerard, the order of channels is: \n",
    ">     nirs_data_Xdf_OD.d = streams{1,iData}.time_series([2 4 6 8 26 28 30 32 1 3 5 7 25 27 29 31],:)'; % On remplace les data\n",
    "Do not forget to shift matlab indices by -1 to get python indices.\n"
   ]
  },
  {
   "cell_type": "code",
   "execution_count": null,
   "metadata": {},
   "outputs": [],
   "source": [
    "ch_names = ['S1_D1 hbo', 'S1_D1 hbr', 'S2_D1 hbo', 'S2_D1 hbr',\n",
    "            'S3_D1 hbo', 'S3_D1 hbr', 'S4_D1 hbo', 'S4_D1 hbr',\n",
    "            'S5_D2 hbo', 'S5_D2 hbr', 'S6_D2 hbo', 'S6_D2 hbr',\n",
    "            'S7_D2 hbo', 'S7_D2 hbr', 'S8_D2 hbo', 'S8_D2 hbr']\n",
    "\n",
    "\n",
    "# for Homer 2 \n",
    "newChannelOrder = [1,   3,   5,   7,   25,   27,   29,   31,   0,   2,   4,   6,   24,   26,   28,   30 ]\n",
    "\n",
    "# for snirf \n",
    "# order should be S1_D1 hbo, S1_D1 hbr, S2_D1 hbo, S2_D1 hbr, S3_D1 hbo, S3_D1 hbr, S4_D1 hbo, S4_D1 hbr, S5_D2 hbo, S5_D2 hbr, S6_D2 hbo, S6_D2 hbr, S7_D2 hbo, S7_D2 hbr, S8_D2 hbo, S8_D2 hbr\n",
    "newChannelOrder = [ 1,   0,   3,   2,   5,   4,   7,   6,   25,   24,   27,   26,   29,   28,   31,   30 ]\n",
    "\n",
    "\n",
    "# sort newChannelOrder and print it\n",
    "#newChannelOrder.sort()\n",
    "print(newChannelOrder)                   \n",
    "\n",
    "# reorder the labels according to the new channel order\n",
    "labels = [nirsLabels[i] for i in newChannelOrder]\n",
    "\n",
    "# print the labels one by one\n",
    "for label in labels:\n",
    "    print(label['label'][0], ch_names[labels.index(label)])\n",
    "\n",
    "# reorder the data according to the new channel order\n",
    "# nirsData = nirsData[:, newChannelOrder]\n",
    "\n",
    "\n",
    "\n",
    "# https://www.ncbi.nlm.nih.gov/pmc/articles/PMC7316018/\n",
    "# hbo <=> 760 nm\n",
    "# hbr <=> 830 nm  \n"
   ]
  },
  {
   "cell_type": "markdown",
   "metadata": {},
   "source": [
    "# Convert the NIRS data to a mne object \n",
    "The goal is to convert the NIRS data to a mne object, i.e., a snirf object.  \n",
    "This will allow us to use the mne functions to analyze the data.  \n",
    "\n",
    "We follow the steps in the tutorial: https://mne.tools/mne-nirs/stable/auto_examples/general/plot_01_data_io.html#sphx-glr-auto-examples-general-plot-01-data-io-py in the section \"Custom data Import\" "
   ]
  },
  {
   "cell_type": "markdown",
   "metadata": {},
   "source": [
    "## Set channel sampling rate, names and types according to the MNE conventions\n",
    "\n",
    "> In MNE-Python the naming of channels MUST follow the structure S#_D# type where # is replaced by the appropriate source and detector numbers and type is either hbo, hbr or the wavelength."
   ]
  },
  {
   "cell_type": "code",
   "execution_count": null,
   "metadata": {},
   "outputs": [],
   "source": [
    "\n",
    "ch_names = []\n",
    "ch_types = []\n",
    "wavelengths = []\n",
    "for l in nirsLabels:\n",
    "    if l['type'][0] == 'NIRS':\n",
    "        #print(l['label'])\n",
    "        txt = l['label'][0].split(' ')\n",
    "        #print(txt)\n",
    "        S = txt[1][-1]\n",
    "        D = txt[3][1:]\n",
    "        wavelength = txt[-1][1:-3]\n",
    "        mne_label = 'S' + S + '_D' + D + ' ' + wavelength\n",
    "        #print(mne_label)\n",
    "        ch_names.append(mne_label)\n",
    "        # all types are OD \n",
    "        ch_types.append('fnirs_od')\n",
    "        wavelengths.append(wavelength) \n",
    "print(ch_names)\n",
    "print(ch_types)\n",
    "print(wavelengths)\n"
   ]
  },
  {
   "cell_type": "markdown",
   "metadata": {},
   "source": [
    "## Set the measurement info \n",
    "Previous exploration showed that the last two columns are battery and LSL1, and that there is data in the first 8 and last 8 channels of the 32 NIRS channels.  \n",
    "Consequently, we set the measurement info to include only these channels."
   ]
  },
  {
   "cell_type": "code",
   "execution_count": null,
   "metadata": {},
   "outputs": [],
   "source": [
    "# remove the last two columns (battery and LSL)\n",
    "data = nirsData[:, 0:-2] \n",
    "\n",
    "# keep the first 8 and last 8 columns\n",
    "idx = [0,1,2,3,4,5,6,7, -8,-7,-6,-5,-4,-3,-2,-1]\n",
    "data = data[:, idx]\n",
    "data = data.T # transpose the data for mne\n",
    "ch_names = ch_names[0:8] + ch_names[-8:]\n",
    "ch_types = ch_types[0:8] + ch_types[-8:]\n",
    "print(data.shape)\n",
    "for i in range(len(ch_names)):\n",
    "    print(i+1, ch_names[i] + ' ' + ch_types[i])\n"
   ]
  },
  {
   "cell_type": "markdown",
   "metadata": {},
   "source": [
    "## Create mne Raw object"
   ]
  },
  {
   "cell_type": "markdown",
   "metadata": {},
   "source": [
    "## Ro-order the channels according to the mne conventions\n",
    " > Channels must be ordered as source detector pairs with alternating frequencies 757 & 852 nm. \n",
    "\n"
   ]
  },
  {
   "cell_type": "code",
   "execution_count": null,
   "metadata": {},
   "outputs": [],
   "source": [
    "ch_names = ['S1_D1 hbo', 'S1_D1 hbr', 'S2_D1 hbo', 'S2_D1 hbr',\n",
    "            'S3_D1 hbo', 'S3_D1 hbr', 'S4_D1 hbo', 'S4_D1 hbr',\n",
    "            'S5_D2 hbo', 'S5_D2 hbr', 'S6_D2 hbo', 'S6_D2 hbr',\n",
    "            'S7_D2 hbo', 'S7_D2 hbr', 'S8_D2 hbo', 'S8_D2 hbr']\n",
    "\n",
    "ch_types = ['hbo', 'hbr', 'hbo', 'hbr',\n",
    "            'hbo', 'hbr', 'hbo', 'hbr',\n",
    "            'hbo', 'hbr', 'hbo', 'hbr',\n",
    "            'hbo', 'hbr', 'hbo', 'hbr']\n",
    "\n",
    "data = nirsData[:, newChannelOrder]\n",
    "data = data.T # transpose the data for mne\n",
    "\n",
    "\n",
    "\n"
   ]
  },
  {
   "cell_type": "code",
   "execution_count": null,
   "metadata": {},
   "outputs": [],
   "source": [
    "import mne\n",
    "# create the info object\n",
    "info = mne.create_info(ch_names=ch_names, sfreq=nirsSamplingRate, ch_types=ch_types)\n",
    "raw = mne.io.RawArray(data, info, verbose=True)\n",
    "print(raw.info)\n",
    "\n",
    "# print(raw.info.keys())\n",
    "\n",
    "montage = mne.channels.make_standard_montage('artinis-octamon')\n",
    "#raw.set_montage(montage)\n"
   ]
  },
  {
   "cell_type": "code",
   "execution_count": null,
   "metadata": {},
   "outputs": [],
   "source": [
    "#Dictionary of channel positions. Keys are channel names and values are 3D coordinates - array of shape (3,) - in native digitizer space in m.\n",
    "\n",
    "DetPos =[\n",
    "        [ 0 ,       0 , 0 ],\n",
    "        [ 0 , -8.4497 , 0]]\n",
    "\n",
    "SrcPos = [ \n",
    "    [ -2.4748 ,   2.4748  , 0.    ],\n",
    "    [ -2.4748 ,  -2.4748  , 0.    ],\n",
    "    [  2.4748 ,   2.4748  , 0.    ],\n",
    "    [  2.4748 ,  -2.4748  , 0.    ],\n",
    "    [ -2.4748 ,  -5.9748  , 0.    ],\n",
    "    [ -2.4748 , -10.9245  , 0.    ],\n",
    "    [  2.4748 ,  -5.9748  , 0.    ],\n",
    "    [  2.4748 , -10.9245  , 0.    ] ]\n",
    "\n",
    "# divide by 100 to convert to meters for mne\n",
    "DetPos = np.array(DetPos) / 100\n",
    "SrcPos = np.array(SrcPos) / 100\n",
    "\n",
    "ch_positions = {\n",
    "    'D1': DetPos[0], \n",
    "    'D2': DetPos[1],\n",
    "    'S1': SrcPos[0],\n",
    "    'S2': SrcPos[1],\n",
    "    'S3': SrcPos[2],\n",
    "    'S4': SrcPos[3],\n",
    "    'S5': SrcPos[4],\n",
    "    'S6': SrcPos[5],\n",
    "    'S7': SrcPos[6],\n",
    "    'S8': SrcPos[7],\n",
    "                }\n",
    "\n",
    "print(ch_positions)\n",
    "#print( montage.get_positions())\n",
    "\n",
    "montage = mne.channels.make_dig_montage(ch_pos=ch_positions) \n",
    "\n",
    "raw.set_montage(montage)\n",
    "\n",
    "raw.plot_sensors(show_names=False)\n",
    "raw.compute_psd(average='mean').plot()\n"
   ]
  },
  {
   "cell_type": "markdown",
   "metadata": {},
   "source": [
    "## Add the wavelength information"
   ]
  },
  {
   "cell_type": "code",
   "execution_count": null,
   "metadata": {},
   "outputs": [],
   "source": [
    "# Add the wavelength information to the info[\"chs\"] structure\n",
    "\n",
    "# add the wavelength information to the info[\"chs\"] structure\n",
    "for i, ch in enumerate(raw.info[\"chs\"]):\n",
    "    #ch['loc'] = np.array([wavelengths[i], 0, 0, 0])\n",
    "    # ch['unit'] = mne.io.constants.FIFF.FIFF_UNIT_MOL\n",
    "    # ch['coil_type'] = mne.io.constants.FIFF.FIFFV_COIL_FNIRS_OD\n",
    "\n",
    "    ch['loc'][9] = float(wavelengths[i])\n",
    "    print(i, ch)\n"
   ]
  },
  {
   "cell_type": "markdown",
   "metadata": {},
   "source": [
    "## Create the montage and add it to the mne Raw object"
   ]
  },
  {
   "cell_type": "code",
   "execution_count": null,
   "metadata": {},
   "outputs": [],
   "source": [
    "montage = mne.channels.make_standard_montage('standard_1020')\n",
    "raw.set_montage(montage)\n",
    "# raw.plot_sensors()"
   ]
  },
  {
   "cell_type": "code",
   "execution_count": null,
   "metadata": {},
   "outputs": [],
   "source": [
    "import matplotlib.pyplot as plt\n",
    "\n",
    "# New figure with a boxplot for each channel\n",
    "fig, ax = plt.subplots(figsize=(15,10))\n",
    "ax.boxplot(nirsData)\n",
    "ax.set_xlabel('Channel')\n",
    "ax.set_ylabel('Value')\n",
    "ax.set_title('Boxplot for each channel')\n",
    "\n",
    "# add x-tick labels with the channel names\n",
    "chanLabel = []\n",
    "for i in range(nirsCount):\n",
    "    label = nirsLabels[i]['label'][0] + ' [' + nirsLabels[i]['unit'][0] + ']'\n",
    "    chanLabel.append(label)\n",
    "ax.set_xticklabels(chanLabel, rotation='vertical') # should be the last line before the show() command\n",
    "plt.show()\n",
    "\n",
    "    "
   ]
  },
  {
   "cell_type": "code",
   "execution_count": null,
   "metadata": {},
   "outputs": [],
   "source": [
    "# TODO - print the info in a nice way\n",
    "\n",
    "def dmp(l, indent=0):\n",
    "    s = \"\"\n",
    "\n",
    "    if isinstance(l, str):\n",
    "        s += l + \"\\n\"\n",
    "    elif isinstance(l, list):\n",
    "        #s += \"\\n.\"\n",
    "        for i in l:\n",
    "            ii = indent\n",
    "            s += \"\\n\"+ (\"-\" * ii) \n",
    "            s += dmp(i, ii) \n",
    "    elif isinstance(l, dict):\n",
    "        ii = indent\n",
    "        s += \"\\n\"+ (\"*\" * ii) \n",
    "        for key, value in l.items():\n",
    "            s += (str(key) + \": \" + dmp(value, ii) )  \n",
    "    return s\n",
    " \n",
    "#pprint.pprint(nirsDesc, indent=10, depth=2)\n",
    "# print(dmp(nirsDesc, 0))"
   ]
  }
 ],
 "metadata": {
  "language_info": {
   "name": "python"
  }
 },
 "nbformat": 4,
 "nbformat_minor": 2
}
