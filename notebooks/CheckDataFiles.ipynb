{
 "cells": [
  {
   "cell_type": "code",
   "execution_count": null,
   "metadata": {},
   "outputs": [],
   "source": []
  },
  {
   "cell_type": "markdown",
   "metadata": {},
   "source": [
    "The data is not stored in the present GitHub repository. \n",
    "\n",
    "I use a simlink to the data directory in my local machine. \n",
    "\n",
    "The simlink was created with: \n",
    "\n",
    "1. Move to the directory where you want to create the simlink, here in the `data` folder.  \n",
    "\n",
    "1.  Create the simlink with: `ln -s <path to data directory> <current directory>`  \n",
    "    Here: `ln -s ~/ExperimentalData/NeuArm ./`\n"
   ]
  },
  {
   "cell_type": "markdown",
   "metadata": {},
   "source": [
    "# Check that data is available\n"
   ]
  },
  {
   "cell_type": "code",
   "execution_count": null,
   "metadata": {},
   "outputs": [],
   "source": [
    "# loop among the files in all the folders in the data folder  and check print the name of the files found in each folder\n",
    "\n",
    "import os\n",
    "import glob\n",
    "\n",
    "# get the current working directory\n",
    "cwd = os.getcwd()\n",
    "print(cwd)\n",
    "\n",
    "# if we are in the notebooks folder, go back to the root folder\n",
    "if os.path.basename(cwd) == 'notebooks':\n",
    "    os.chdir('..')\n",
    "    cwd = os.getcwd()\n",
    "    print(cwd)\n",
    "\n",
    "# get the path to the data folder\n",
    "data_folder = os.path.join(cwd, 'data')\n",
    "print(data_folder)\n",
    "\n",
    "# recursively get the list of all the folders in the data folder\n",
    "folders = glob.glob(data_folder + '/**/', recursive=True)\n",
    "print(folders)\n",
    "\n",
    "# loop among the folders    \n",
    "for folder in folders:\n",
    "    # get the list of files in the folder\n",
    "    files = os.listdir(folder)\n",
    "    # print the name of the folder and the list of files as a column, file by file\n",
    "    print(folder)\n",
    "    for file in files:\n",
    "        print(file)\n"
   ]
  },
  {
   "cell_type": "code",
   "execution_count": null,
   "metadata": {},
   "outputs": [],
   "source": [
    "# create the list of files by participant \n",
    "\n",
    "conditions = ['c', 'c']\n",
    "\n",
    "fname = '001_LecGer_20210826_1_c.xdf'\n",
    "\n",
    "# remove the extension\n",
    "fname = fname.split('.')[0]\n",
    "# get the tokens separated by the underscore\n",
    "tokens = fname.split('_')\n",
    "print(tokens)\n",
    "\n",
    "participantNumber = tokens[0]\n",
    "print(participantNumber)\n",
    "participantName = tokens[1]\n",
    "print(participantName)\n",
    "date = tokens[2]\n",
    "print(date)\n",
    "session = tokens[3]\n",
    "print(session)\n",
    "condition = tokens[4]\n",
    "print(condition)\n",
    "\n",
    "participantID = participantNumber + '_' + participantName\n",
    "print(participantID)\n"
   ]
  }
 ],
 "metadata": {
  "language_info": {
   "name": "python"
  }
 },
 "nbformat": 4,
 "nbformat_minor": 2
}
